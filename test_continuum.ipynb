{
 "metadata": {
  "name": "",
  "signature": "sha256:4ad87e96858fac9f58bf06953603e49c89e8fc835c194de333eb222031568332"
 },
 "nbformat": 3,
 "nbformat_minor": 0,
 "worksheets": [
  {
   "cells": [
    {
     "cell_type": "heading",
     "level": 2,
     "metadata": {},
     "source": [
      "Testing the Spline Continuum Fitting (1/26/15)"
     ]
    },
    {
     "cell_type": "markdown",
     "metadata": {},
     "source": [
      "This notebook tests how well the continuum is fit with a spline with the pivots all defined at the same wavelengths for all sources."
     ]
    },
    {
     "cell_type": "code",
     "collapsed": false,
     "input": [
      "%matplotlib inline\n",
      "import spline_fit as spf\n",
      "from utils import Spectrum\n",
      "import numpy as np\n",
      "import matplotlib.pyplot as plt\n",
      "import matplotlib as mpl\n",
      "import astropy.units as u"
     ],
     "language": "python",
     "metadata": {},
     "outputs": [],
     "prompt_number": 1
    },
    {
     "cell_type": "code",
     "collapsed": false,
     "input": [
      "mpl.rcParams['axes.labelsize'] = 16\n",
      "mpl.rcParams['xtick.labelsize'] = 14\n",
      "mpl.rcParams['ytick.labelsize'] = 14\n",
      "mpl.rcParams['legend.fontsize'] = 12"
     ],
     "language": "python",
     "metadata": {},
     "outputs": [],
     "prompt_number": 2
    },
    {
     "cell_type": "code",
     "collapsed": false,
     "input": [
      "#Import the BAT AGN database\n",
      "dropbox_dir = '/Users/ttshimiz/Dropbox/Research/Thesis/'\n",
      "execfile(dropbox_dir+'scripts/upload_bat_ir_database.py')"
     ],
     "language": "python",
     "metadata": {},
     "outputs": [
      {
       "output_type": "stream",
       "stream": "stderr",
       "text": [
        "-c:310: RuntimeWarning: divide by zero encountered in log10\n"
       ]
      }
     ],
     "prompt_number": 3
    },
    {
     "cell_type": "markdown",
     "metadata": {},
     "source": [
      "The names and redshift are now contained in the variables \"names\" and \"redshift\"\n"
     ]
    },
    {
     "cell_type": "code",
     "collapsed": false,
     "input": [
      "#Upload list of sources with a Spitzer spectra\n",
      "bat_spitzer = np.genfromtxt(dropbox_dir+'/data/SPITZER/spitzer_irs_observations.txt',\n",
      "                            names=True, dtype=None, delimiter='\\t')\n",
      "yes_no = bat_spitzer['Spitzer_Spectra']\n",
      "spec_type = bat_spitzer['Spectra_Type']"
     ],
     "language": "python",
     "metadata": {},
     "outputs": [],
     "prompt_number": 4
    },
    {
     "cell_type": "code",
     "collapsed": false,
     "input": [
      "#Check values of yes_no and spec_type\n",
      "print yes_no"
     ],
     "language": "python",
     "metadata": {},
     "outputs": [
      {
       "output_type": "stream",
       "stream": "stdout",
       "text": [
        "['No' 'No' 'No' 'No' 'No' 'No' 'No' 'No' 'No' 'No' 'No' 'Yes' 'No' 'Yes'\n",
        " 'No' 'No' 'No' 'Yes' 'Yes' 'No' 'No' 'No' 'Yes' 'No' 'No' 'Yes' 'No' 'No'\n",
        " 'No' 'No' 'No' 'Yes' 'Yes' 'No' 'No' 'No' 'No' 'No' 'No' 'No' 'No' 'No'\n",
        " 'No' 'No' 'No' 'No' 'No' 'No' 'No' 'No' 'No' 'No' 'No' 'No' 'No' 'Yes'\n",
        " 'No' 'No' 'No' 'Yes' 'No' 'Yes' 'Yes' 'No' 'No' 'Yes' 'No' 'No' 'No' 'No'\n",
        " 'No' 'No' 'No' 'No' 'Yes' 'Yes' 'No' 'No' 'Yes' 'No' 'No' 'Yes' 'Yes' 'No'\n",
        " 'No' 'Yes' 'Yes' 'No' 'No' 'Yes' 'No' 'No' 'No' 'Yes' 'Yes' 'No' 'Yes'\n",
        " 'No' 'No' 'Yes' 'Yes' 'Yes' 'No' 'No' 'No' 'No' 'Yes' 'No' 'No' 'Yes' 'No'\n",
        " 'Yes' 'Yes' 'No' 'No' 'No' 'No' 'No' 'No' 'Yes' 'Yes' 'Yes' 'No' 'Yes'\n",
        " 'No' 'Yes' 'No' 'No' 'No' 'Yes' 'Yes' 'No' 'Yes' 'No' 'No' 'Yes' 'No' 'No'\n",
        " 'No' 'No' 'Yes' 'No' 'No' 'No' 'No' 'No' 'Yes' 'No' 'No' 'No' 'No' 'Yes'\n",
        " 'No' 'No' 'Yes' 'Yes' 'No' 'No' 'No' 'No' 'No' 'No' 'Yes' 'No' 'No' 'Yes'\n",
        " 'Yes' 'Yes' 'No' 'No' 'Yes' 'No' 'No' 'Yes' 'Yes' 'No' 'No' 'No' 'No' 'No'\n",
        " 'No' 'No' 'No' 'Yes' 'Yes' 'Yes' 'No' 'Yes' 'Yes' 'No' 'No' 'Yes' 'Yes'\n",
        " 'Yes' 'Yes' 'Yes' 'Yes' 'Yes' 'Yes' 'Yes' 'Yes' 'Yes' 'Yes' 'No' 'No' 'No'\n",
        " 'No' 'No' 'No' 'No' 'Yes' 'No' 'No' 'Yes' 'No' 'Yes' 'No' 'Yes' 'No' 'No'\n",
        " 'No' 'Yes' 'Yes' 'Yes' 'Yes' 'No' 'Yes' 'No' 'Yes' 'Yes' 'Yes' 'Yes' 'Yes'\n",
        " 'No' 'No' 'No' 'Yes' 'Yes' 'Yes' 'Yes' 'No' 'Yes' 'No' 'Yes' 'No' 'Yes'\n",
        " 'Yes' 'No' 'No' 'Yes' 'Yes' 'Yes' 'No' 'No' 'No' 'No' 'Yes' 'Yes' 'Yes'\n",
        " 'No' 'Yes' 'Yes' 'No' 'Yes' 'No' 'Yes' 'Yes' 'No' 'Yes' 'Yes' 'Yes' 'Yes'\n",
        " 'Yes' 'No' 'Yes' 'Yes' 'No' 'Yes' 'Yes' 'Yes' 'Yes' 'Yes' 'Yes' 'No' 'Yes'\n",
        " 'Yes' 'Yes' 'No' 'Yes' 'Yes' 'No' 'No' 'No' 'No' 'Yes' 'Yes' 'No' 'No'\n",
        " 'Yes' 'Yes' 'No' 'No' 'No' 'No' 'Yes' 'Yes' 'Yes' 'No' 'No' 'No' 'No' 'No'\n",
        " 'No']\n"
       ]
      }
     ],
     "prompt_number": 5
    },
    {
     "cell_type": "code",
     "collapsed": false,
     "input": [
      "print spec_type"
     ],
     "language": "python",
     "metadata": {},
     "outputs": [
      {
       "output_type": "stream",
       "stream": "stdout",
       "text": [
        "['NA' 'NA' 'NA' 'NA' 'NA' 'NA' 'NA' 'NA' 'NA' 'NA' 'NA' 'SL/LL' 'NA'\n",
        " 'SL/LL' 'NA' 'NA' 'NA' 'SL/LL' 'SL/LL' 'NA' 'NA' 'NA' 'SL/LL' 'NA' 'NA'\n",
        " 'SL/LL' 'NA' 'NA' 'NA' 'NA' 'NA' 'SL/LL' 'SL/LL' 'NA' 'NA' 'NA' 'NA' 'NA'\n",
        " 'NA' 'NA' 'NA' 'NA' 'NA' 'NA' 'NA' 'NA' 'NA' 'NA' 'NA' 'NA' 'NA' 'NA' 'NA'\n",
        " 'NA' 'NA' 'SL/LL' 'NA' 'NA' 'NA' 'SL/LL' 'NA' 'SL/LL' 'SL' 'NA' 'NA'\n",
        " 'SL/LL' 'NA' 'NA' 'NA' 'NA' 'NA' 'NA' 'NA' 'NA' 'SL/LL' 'SL/LL' 'NA' 'NA'\n",
        " 'SL/LL' 'NA' 'NA' 'SL/LL' 'SL/LL' 'NA' 'NA' 'SL/LL' 'SL/LL' 'NA' 'NA'\n",
        " 'SL/LL' 'NA' 'NA' 'NA' 'SL/LL' 'SL/LL' 'NA' 'SL/LL' 'NA' 'NA' 'SL/LL'\n",
        " 'SL/LL' 'SL/LL' 'NA' 'NA' 'NA' 'NA' 'SL/LL' 'NA' 'NA' 'SL/LL' 'NA' 'SL/LL'\n",
        " 'SL/LL' 'NA' 'NA' 'NA' 'NA' 'NA' 'NA' 'SL/LL' 'SL/LL' 'SL/LL' 'NA' 'SL/LL'\n",
        " 'NA' 'SL/LL' 'NA' 'NA' 'NA' 'SL/LL' 'SL/LL' 'NA' 'SL/LL' 'NA' 'NA' 'SL/LL'\n",
        " 'NA' 'NA' 'NA' 'NA' 'SL/LL' 'NA' 'NA' 'NA' 'NA' 'NA' 'SL/LL' 'NA' 'NA'\n",
        " 'NA' 'NA' 'SL/LL' 'NA' 'NA' 'SL/LL' 'SL/LL' 'NA' 'NA' 'NA' 'NA' 'NA' 'NA'\n",
        " 'SL/LL' 'NA' 'NA' 'SL/LL' 'SL/LL' 'SL/LL' 'NA' 'NA' 'SL/LL' 'NA' 'NA'\n",
        " 'SL/LL' 'SL/LL' 'NA' 'NA' 'NA' 'NA' 'NA' 'NA' 'NA' 'NA' 'SL/LL' 'SL/LL'\n",
        " 'SL/LL' 'NA' 'SL/LL' 'SL/LL' 'NA' 'NA' 'SL/LL' 'SL/LL' 'SL/LL' 'SL'\n",
        " 'SL/LL' 'SL/LL' 'SL' 'SL/LL' 'SL/LL' 'SL/LL' 'SL/LL' 'SL/LL' 'NA' 'NA'\n",
        " 'NA' 'NA' 'NA' 'NA' 'NA' 'SL' 'NA' 'NA' 'SL/LL' 'NA' 'SL/LL' 'NA' 'SL/LL'\n",
        " 'NA' 'NA' 'NA' 'SL/LL' 'SL/LL' 'SL/LL' 'SL/LL' 'NA' 'SL/LL' 'NA' 'SL/LL'\n",
        " 'SL/LL' 'SL/LL' 'SL/LL' 'SL/LL' 'NA' 'NA' 'NA' 'SL/LL' 'SL/LL' 'SL'\n",
        " 'SL/LL' 'NA' 'SL/LL' 'NA' 'SL/LL' 'NA' 'SL/LL' 'SL/LL' 'NA' 'NA' 'SL/LL'\n",
        " 'SL/LL' 'SL/LL' 'NA' 'NA' 'NA' 'NA' 'SL/LL' 'SL/LL' 'SL/LL' 'NA' 'SL/LL'\n",
        " 'SL/LL' 'NA' 'SL' 'NA' 'SL/LL' 'SL/LL' 'NA' 'SL/LL' 'SL/LL' 'SL/LL' 'LL'\n",
        " 'SL/LL' 'NA' 'SL/LL' 'SL/LL' 'NA' 'SL/LL' 'SL/LL' 'SL/LL' 'SL/LL' 'SL/LL'\n",
        " 'SL/LL' 'NA' 'SL/LL' 'SL/LL' 'SL/LL' 'NA' 'SL/LL' 'SL/LL' 'NA' 'NA' 'NA'\n",
        " 'NA' 'SL/LL' 'SL/LL' 'NA' 'NA' 'SL/LL' 'SL/LL' 'NA' 'NA' 'NA' 'NA' 'SL/LL'\n",
        " 'SL/LL' 'SL/LL' 'NA' 'NA' 'NA' 'NA' 'NA' 'NA']\n"
       ]
      }
     ],
     "prompt_number": 6
    },
    {
     "cell_type": "code",
     "collapsed": false,
     "input": [
      "#Only use sources that have a spectra with full range\n",
      "ind_use = (yes_no == 'Yes') & (spec_type == 'SL/LL')\n",
      "\n",
      "#How many sources are we working with?\n",
      "print sum(ind_use)"
     ],
     "language": "python",
     "metadata": {},
     "outputs": [
      {
       "output_type": "stream",
       "stream": "stdout",
       "text": [
        "120\n"
       ]
      }
     ],
     "prompt_number": 7
    },
    {
     "cell_type": "code",
     "collapsed": false,
     "input": [
      "#Loop over all of the sources and plot the continuum and observed spectrum\n",
      "#Also plot the ratio of the observed spectrum and continuum\n",
      "spec_files = [n+'_SpitzerIRS_stiched.txt' for n in names[ind_use]]\n",
      "z_use = redshift[ind_use]\n",
      "\n",
      "#Use the pivots from Spoon et al 2007. Change 26 micron to 27 micron to \n",
      "#avoid the [OIV] line\n",
      "pivots = np.array([5.2, 5.6, 14.0, 27.0, 31.5])\n",
      "name_i = 'NGC7582'\n",
      "for i in range(1):\n",
      "  \n",
      "    #spectrum = np.loadtxt(dropbox_dir+'data/SPITZER/IRS_stitched_spectra/'+spec_files[i])\n",
      "    spectrum = np.loadtxt(dropbox_dir+'data/SPITZER/IRS_stitched_spectra/'+name_i+'_SpitzerIRS_stiched.txt')\n",
      "    spec_waves = spectrum[:, 0]/(1+z_use[i])*u.micron\n",
      "    spec_flux = spectrum[:,1]*u.Jy\n",
      "    spec_error = spectrum[:,2]*u.Jy\n",
      "    \n",
      "    spec = Spectrum(spec_waves, spec_flux, error=spec_error)\n",
      "    cont, pivot_flux = spf.spline_fit(spec, pivots)\n",
      "    cont_flux = cont(spec_waves.value)\n",
      "    \n",
      "    #Plot the spectra along with the estimated continuum\n",
      "    #In subplot, plot the ratio of spectrum to continuum\n",
      "    fig = plt.figure(figsize=(8, 12))\n",
      "    \n",
      "    ax1 = fig.add_subplot(211)\n",
      "    ax1.plot(spec_waves.value, spec_flux.value, 'k-', label='Observed')\n",
      "    ax1.plot(spec_waves.value, cont_flux, 'b--', label='Spline Continuum')\n",
      "    ax1.plot(pivots, pivot_flux, 'bs', ms=8, label='Pivots')\n",
      "    ax1.set_ylabel('Flux [Jy]')\n",
      "    ax1.set_yscale('log')\n",
      "    ax1.set_xscale('log')\n",
      "    ax1.set_xlim(5, 40)\n",
      "    ax1.legend(loc='lower right')\n",
      "    #ax1.text(0.05, 0.95, names[ind_use][i], ha='left', va='center',\n",
      "    #         transform=ax1.transAxes, fontsize=14)\n",
      "    ax1.text(0.05, 0.95, name_i, ha='left', va='center',\n",
      "             transform=ax1.transAxes, fontsize=14)\n",
      "    ax2 = fig.add_subplot(212)\n",
      "    ax2.plot(spec_waves.value, spec_flux.value/cont_flux, 'k-')\n",
      "    ax2.axhline(1, color='b', ls='--')\n",
      "    ax2.plot(pivots, pivot_flux/cont(pivots), 'bs', ms=8)\n",
      "    ax2.set_ylabel(r'$F_{obs}/F_{cont}$')\n",
      "    ax2.set_xlabel(r'$\\lambda$ [$\\mu$m]')\n",
      "    ax2.set_xscale('log')\n",
      "    ax2.set_xlim(5, 40)\n",
      "    \n",
      "    #fig.savefig('/Users/ttshimiz/Research/Thesis/BAT-AGN-Spitzer-IRS-Analysis/'\n",
      "    #            'bat-agn-spitzer-irs-analysis/test_continuum_figs/'+names[ind_use][i]+\n",
      "    #            '_test_continuum1.png', bbox_inches='tight')\n",
      "    fig.savefig('/Users/ttshimiz/Research/Thesis/BAT-AGN-Spitzer-IRS-Analysis/'\n",
      "                'bat-agn-spitzer-irs-analysis/test_continuum_figs/'+name_i+\n",
      "                '_test_continuum1.png', bbox_inches='tight')\n",
      "    close(fig)"
     ],
     "language": "python",
     "metadata": {},
     "outputs": [],
     "prompt_number": 18
    },
    {
     "cell_type": "markdown",
     "metadata": {},
     "source": [
      "Spectra that need to be restitched:\n",
      "    ESO121-IG028 (Done)\n",
      "    ESO198-024 (Done)\n",
      "    Fairall 9 (Done)\n",
      "    Mrk 10 (Done)\n",
      "    Mrk279 (Done)\n",
      "    Mrk352 (Done)\n",
      "    Mrk926 (Done)\n",
      "    NGC4151 (Done)\n",
      "    NGC4235 (Done)\n",
      "    NGC 6300 (Done)\n",
      "    NGC 7582 (Done)\n",
      "    NGC 7679 (Done)\n",
      "    PG2304+042 (Done)\n",
      "    NGC7479 (Only one order of SL is available, 7.5-35 micron range)\n",
      "    NGC 5273 (Only one order of SL is available, 7.5-35 micron range)\n",
      "    \n",
      "These spectra needed to be restitched because artificial edges were introduced near the connection points for the two orders in SL and/or LL. \n",
      "To fix most of them I simply removed the scaling between the two orders of the short-low spectrum. What was happening was since I fitting a line between the first two points of the 1st order sometimes noise caused it wildly vary from the actual continuum and cause the second order to be scaled way too high or low. "
     ]
    },
    {
     "cell_type": "markdown",
     "metadata": {},
     "source": [
      "Looking at the figures, its pretty clear that using the same pivots for all sources is not the right way to go, especially for the spectra that are continuum dominated. \n",
      "\n",
      "From the Spoon et al. 2007 article, they classified each spectra as either continuum, PAH, or absorption dominated and adopted different methods for estimating the continuum. This is what I will do as well and the first step is to classify each spectra. "
     ]
    },
    {
     "cell_type": "code",
     "collapsed": false,
     "input": [],
     "language": "python",
     "metadata": {},
     "outputs": [],
     "prompt_number": 8
    }
   ],
   "metadata": {}
  }
 ]
}
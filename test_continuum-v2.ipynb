{
 "metadata": {
  "name": "",
  "signature": "sha256:0cf077cc4f42c458e4344b7f6193b24ae259354202eca7a7e4308209afb1c203"
 },
 "nbformat": 3,
 "nbformat_minor": 0,
 "worksheets": [
  {
   "cells": [
    {
     "cell_type": "heading",
     "level": 2,
     "metadata": {},
     "source": [
      "Testing the Spline Continuum Fitting V2 (2/05/15)"
     ]
    },
    {
     "cell_type": "markdown",
     "metadata": {},
     "source": [
      "This notebook tests how well the continuum is fit with a spline with the pivots defined differently based on the classification of the spectrum as PAH, absorption, or continuum dominated. The method being used is described in Sirocky et al 2008."
     ]
    },
    {
     "cell_type": "code",
     "collapsed": false,
     "input": [
      "%matplotlib inline\n",
      "import spline_fit as spf\n",
      "from utils import Spectrum\n",
      "import numpy as np\n",
      "import matplotlib.pyplot as plt\n",
      "import matplotlib as mpl\n",
      "import astropy.units as u"
     ],
     "language": "python",
     "metadata": {},
     "outputs": [],
     "prompt_number": 7
    },
    {
     "cell_type": "code",
     "collapsed": false,
     "input": [
      "mpl.rcParams['axes.labelsize'] = 16\n",
      "mpl.rcParams['xtick.labelsize'] = 14\n",
      "mpl.rcParams['ytick.labelsize'] = 14\n",
      "mpl.rcParams['legend.fontsize'] = 12"
     ],
     "language": "python",
     "metadata": {},
     "outputs": [],
     "prompt_number": 8
    },
    {
     "cell_type": "code",
     "collapsed": false,
     "input": [
      "#Import the BAT AGN database\n",
      "dropbox_dir = '/Users/ttshimiz/Dropbox/Research/Thesis/'\n",
      "execfile(dropbox_dir+'scripts/upload_bat_ir_database.py')"
     ],
     "language": "python",
     "metadata": {},
     "outputs": [
      {
       "output_type": "stream",
       "stream": "stderr",
       "text": [
        "-c:310: RuntimeWarning: divide by zero encountered in log10\n"
       ]
      }
     ],
     "prompt_number": 9
    },
    {
     "cell_type": "markdown",
     "metadata": {},
     "source": [
      "The names and redshift are now contained in the variables \"names\" and \"redshift\"\n"
     ]
    },
    {
     "cell_type": "code",
     "collapsed": false,
     "input": [
      "#Upload list of sources with a Spitzer spectra\n",
      "bat_spitzer = np.genfromtxt(dropbox_dir+'/data/SPITZER/spitzer_irs_observations.txt',\n",
      "                            names=True, dtype=None, delimiter='\\t')\n",
      "yes_no = bat_spitzer['Spitzer_Spectra']\n",
      "spec_order = bat_spitzer['Spectra_Orders']\n",
      "spec_type = bat_spitzer['Spectra_Type']"
     ],
     "language": "python",
     "metadata": {},
     "outputs": [],
     "prompt_number": 33
    },
    {
     "cell_type": "code",
     "collapsed": false,
     "input": [
      "#Check values of yes_no and spec_type\n",
      "print yes_no"
     ],
     "language": "python",
     "metadata": {},
     "outputs": [
      {
       "output_type": "stream",
       "stream": "stdout",
       "text": [
        "['No' 'No' 'No' 'No' 'No' 'No' 'No' 'No' 'No' 'No' 'No' 'Yes' 'No' 'Yes'\n",
        " 'No' 'No' 'No' 'Yes' 'Yes' 'No' 'No' 'No' 'Yes' 'No' 'No' 'Yes' 'No' 'No'\n",
        " 'No' 'No' 'No' 'Yes' 'Yes' 'No' 'No' 'No' 'No' 'No' 'No' 'No' 'No' 'No'\n",
        " 'No' 'No' 'No' 'No' 'No' 'No' 'No' 'No' 'No' 'No' 'No' 'No' 'No' 'Yes'\n",
        " 'No' 'No' 'No' 'Yes' 'No' 'Yes' 'Yes' 'No' 'No' 'Yes' 'No' 'No' 'No' 'No'\n",
        " 'No' 'No' 'No' 'No' 'Yes' 'Yes' 'No' 'No' 'Yes' 'No' 'No' 'Yes' 'Yes' 'No'\n",
        " 'No' 'Yes' 'Yes' 'No' 'No' 'Yes' 'No' 'No' 'No' 'Yes' 'Yes' 'No' 'Yes'\n",
        " 'No' 'No' 'Yes' 'Yes' 'Yes' 'No' 'No' 'No' 'No' 'Yes' 'No' 'No' 'Yes' 'No'\n",
        " 'Yes' 'Yes' 'No' 'No' 'No' 'No' 'No' 'No' 'Yes' 'Yes' 'Yes' 'No' 'Yes'\n",
        " 'No' 'Yes' 'No' 'No' 'No' 'Yes' 'Yes' 'No' 'Yes' 'No' 'No' 'Yes' 'No' 'No'\n",
        " 'No' 'No' 'Yes' 'No' 'No' 'No' 'No' 'No' 'Yes' 'No' 'No' 'No' 'No' 'Yes'\n",
        " 'No' 'No' 'Yes' 'Yes' 'No' 'No' 'No' 'No' 'No' 'No' 'Yes' 'No' 'No' 'Yes'\n",
        " 'Yes' 'Yes' 'No' 'No' 'Yes' 'No' 'No' 'Yes' 'Yes' 'No' 'No' 'No' 'No' 'No'\n",
        " 'No' 'No' 'No' 'Yes' 'Yes' 'Yes' 'No' 'Yes' 'Yes' 'No' 'No' 'Yes' 'Yes'\n",
        " 'Yes' 'Yes' 'Yes' 'Yes' 'Yes' 'Yes' 'Yes' 'Yes' 'Yes' 'Yes' 'No' 'No' 'No'\n",
        " 'No' 'No' 'No' 'No' 'Yes' 'No' 'No' 'Yes' 'No' 'Yes' 'No' 'Yes' 'No' 'No'\n",
        " 'No' 'Yes' 'Yes' 'Yes' 'Yes' 'No' 'Yes' 'No' 'Yes' 'Yes' 'Yes' 'Yes' 'Yes'\n",
        " 'No' 'No' 'No' 'Yes' 'Yes' 'Yes' 'Yes' 'No' 'Yes' 'No' 'Yes' 'No' 'Yes'\n",
        " 'Yes' 'No' 'No' 'Yes' 'Yes' 'Yes' 'No' 'No' 'No' 'No' 'Yes' 'Yes' 'Yes'\n",
        " 'No' 'Yes' 'Yes' 'No' 'Yes' 'No' 'Yes' 'Yes' 'No' 'Yes' 'Yes' 'Yes' 'Yes'\n",
        " 'Yes' 'No' 'Yes' 'Yes' 'No' 'Yes' 'Yes' 'Yes' 'Yes' 'Yes' 'Yes' 'No' 'Yes'\n",
        " 'Yes' 'Yes' 'No' 'Yes' 'Yes' 'No' 'No' 'No' 'No' 'Yes' 'Yes' 'No' 'No'\n",
        " 'Yes' 'Yes' 'No' 'No' 'No' 'No' 'Yes' 'Yes' 'Yes' 'No' 'No' 'No' 'No' 'No'\n",
        " 'No']\n"
       ]
      }
     ],
     "prompt_number": 34
    },
    {
     "cell_type": "code",
     "collapsed": false,
     "input": [
      "print spec_type"
     ],
     "language": "python",
     "metadata": {},
     "outputs": [
      {
       "output_type": "stream",
       "stream": "stdout",
       "text": [
        "['' '' '' '' '' '' '' '' '' '' '' 'P' '' 'B' '' '' '' 'C' 'C' '' '' '' 'P'\n",
        " '' '' 'P' '' '' '' '' '' 'C' 'P' '' '' '' '' '' '' '' '' '' '' '' '' '' ''\n",
        " '' '' '' '' '' '' '' '' 'C' '' '' '' 'C' '' 'C' '' '' '' 'A' '' '' '' ''\n",
        " '' '' '' '' 'C' 'P' '' '' 'A/P' '' '' 'A' 'C' '' '' 'C' 'C' '' '' 'C' ''\n",
        " '' '' 'P' 'P' '' 'C' '' '' 'C' 'C' 'C' '' '' '' '' 'A' '' '' 'C' '' 'C'\n",
        " 'P' '' '' '' '' '' '' 'P' 'P' 'C' '' 'P' '' 'P' '' '' '' 'C' 'A/P' '' 'C'\n",
        " '' '' 'C' '' '' '' '' 'C' '' '' '' '' '' 'P' '' '' '' '' 'C' '' '' 'C' 'C'\n",
        " '' '' '' '' '' '' 'C' '' '' 'C' 'C' 'C' '' '' 'P' '' '' 'C' 'P' '' '' ''\n",
        " '' '' '' '' '' 'C' 'C' 'C' '' 'C' 'P' '' '' 'C' 'C' 'C' '' 'C' 'C' '' 'C'\n",
        " 'P' 'C' 'P' 'C' '' '' '' '' '' '' '' '' '' '' 'C' '' 'C' '' 'C' '' '' ''\n",
        " 'P' 'C' 'P' 'P' '' 'P' '' 'P' 'C' 'P' 'A' 'C' '' '' '' 'C' 'P' '' 'P' ''\n",
        " 'C' '' 'C' '' 'A/P' 'C' '' '' 'C' 'C' 'A' '' '' '' '' 'C' 'C' 'B' '' 'A'\n",
        " 'C' '' '' '' 'P' 'A/P' '' 'P' 'P' 'A' '' 'C' '' 'A/P' 'C' '' 'P' 'B' 'P'\n",
        " 'P' 'P' 'C' '' 'B' 'C' 'C' '' 'C' 'C' '' '' '' '' 'P' 'C' '' '' 'C' 'P' ''\n",
        " '' '' '' 'C' 'P' 'C' '' '' '' '' '' '']\n"
       ]
      }
     ],
     "prompt_number": 35
    },
    {
     "cell_type": "code",
     "collapsed": false,
     "input": [
      "#Only use sources that have a spectra with full range\n",
      "ind_use = (yes_no == 'Yes') & (spec_type != '') & (spec_type != 'B')\n",
      "\n",
      "#How many sources are we working with?\n",
      "print sum(ind_use)"
     ],
     "language": "python",
     "metadata": {},
     "outputs": [
      {
       "output_type": "stream",
       "stream": "stdout",
       "text": [
        "116\n"
       ]
      }
     ],
     "prompt_number": 13
    },
    {
     "cell_type": "code",
     "collapsed": false,
     "input": [
      "#Loop over all of the sources and plot the continuum and observed spectrum\n",
      "#Also plot the ratio of the observed spectrum and continuum\n",
      "spec_files = [n+'_SpitzerIRS_stiched.txt' for n in names[ind_use]]\n",
      "z_use = redshift[ind_use]\n",
      "reload(spf)"
     ],
     "language": "python",
     "metadata": {},
     "outputs": [
      {
       "metadata": {},
       "output_type": "pyout",
       "prompt_number": 37,
       "text": [
        "<module 'spline_fit' from 'spline_fit.py'>"
       ]
      }
     ],
     "prompt_number": 37
    },
    {
     "cell_type": "code",
     "collapsed": false,
     "input": [
      "for i in range(sum(ind_use)):\n",
      "    if spec_type[ind_use][i] == 'A/P':\n",
      "    #spectrum = np.loadtxt(dropbox_dir+'data/SPITZER/IRS_stitched_spectra/'+spec_files[i])\n",
      "        spectrum = np.loadtxt(dropbox_dir+'data/SPITZER/IRS_stitched_spectra/'+names[ind_use][i]+'_SpitzerIRS_stiched.txt')\n",
      "        spec_waves = spectrum[:, 0]/(1+z_use[i])*u.micron\n",
      "        spec_flux = spectrum[:,1]*u.Jy\n",
      "        spec_error = spectrum[:,2]*u.Jy\n",
      "    \n",
      "        spec = Spectrum(spec_waves, spec_flux, error=spec_error)\n",
      "        cont = spf.spline_fit(spec, spec_type[ind_use][i])\n",
      "        cont_flux = cont.flux\n",
      "    #pivots = cont['pivots']\n",
      "    #pivot_flux = cont['pivot_flux']\n",
      "    \n",
      "    #Plot the spectra along with the estimated continuum\n",
      "    #In subplot, plot the ratio of spectrum to continuum\n",
      "        fig = plt.figure(figsize=(8, 12))\n",
      "    \n",
      "        ax1 = fig.add_subplot(211)\n",
      "        ax1.plot(spec_waves.value, spec_flux.value, 'k-', label='Observed')\n",
      "        ax1.plot(spec_waves.value, cont_flux.value, 'b--', label='Spline Continuum')\n",
      "    #ax1.plot(pivots, pivot_flux, 'bs', ms=8, label='Pivots')\n",
      "        ax1.set_ylabel('Flux [Jy]')\n",
      "        ax1.set_yscale('log')\n",
      "        ax1.set_xscale('log')\n",
      "        ax1.set_xlim(5, 40)\n",
      "        ax1.legend(loc='lower right')\n",
      "        ax1.text(0.05, 0.95, names[ind_use][i], ha='left', va='center',\n",
      "                 transform=ax1.transAxes, fontsize=14)\n",
      "    #ax1.text(0.05, 0.95, name_i, ha='left', va='center',\n",
      "    #         transform=ax1.transAxes, fontsize=14)\n",
      "        ax2 = fig.add_subplot(212)\n",
      "        ax2.plot(spec_waves.value, spec_flux.value/cont_flux.value, 'k-')\n",
      "        ax2.axhline(1, color='b', ls='--')\n",
      "    #ax2.plot(pivots, pivot_flux/pivot_flux, 'bs', ms=8)\n",
      "        ax2.set_ylabel(r'$F_{obs}/F_{cont}$')\n",
      "        ax2.set_xlabel(r'$\\lambda$ [$\\mu$m]')\n",
      "        ax2.set_xscale('log')\n",
      "        ax2.set_xlim(5, 40)\n",
      "    \n",
      "    #fig.savefig('/Users/ttshimiz/Research/Thesis/BAT-AGN-Spitzer-IRS-Analysis/'\n",
      "    #            'bat-agn-spitzer-irs-analysis/test_continuum_figs/'+names[ind_use][i]+\n",
      "    #            '_test_continuum1.png', bbox_inches='tight')\n",
      "        fig.savefig('/Users/ttshimiz/Research/Thesis/'\n",
      "                'bat-agn-spitzer-irs-analysis/test_continuum_figs_v3/'+names[ind_use][i]+\n",
      "                '_test_continuum_v3.png', bbox_inches='tight')\n",
      "        close(fig)"
     ],
     "language": "python",
     "metadata": {},
     "outputs": [],
     "prompt_number": 38
    },
    {
     "cell_type": "code",
     "collapsed": false,
     "input": [
      "a = arange(10)*spec_flux.unit\n",
      "print a"
     ],
     "language": "python",
     "metadata": {},
     "outputs": [
      {
       "output_type": "stream",
       "stream": "stdout",
       "text": [
        "[ 0.  1.  2.  3.  4.  5.  6.  7.  8.  9.] Jy\n"
       ]
      }
     ],
     "prompt_number": 24
    }
   ],
   "metadata": {}
  }
 ]
}